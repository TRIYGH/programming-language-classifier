{
 "cells": [
  {
   "cell_type": "code",
   "execution_count": 1,
   "metadata": {
    "collapsed": true
   },
   "outputs": [],
   "source": [
    "# W4D4    polyglot"
   ]
  },
  {
   "cell_type": "markdown",
   "metadata": {},
   "source": [
    "####     read file  ( change to a function later)"
   ]
  },
  {
   "cell_type": "code",
   "execution_count": 2,
   "metadata": {
    "collapsed": true
   },
   "outputs": [],
   "source": [
    "import re\n",
    "import glob\n",
    "from sklearn.feature_extraction.text import CountVectorizer as CV\n",
    "from sklearn.feature_extraction.text import TfidfTransformer as TF\n",
    "from sklearn.naive_bayes import MultinomialNB as MNB\n",
    "from sklearn.pipeline import Pipeline"
   ]
  },
  {
   "cell_type": "code",
   "execution_count": 3,
   "metadata": {
    "collapsed": false
   },
   "outputs": [],
   "source": [
    "lines = []\n",
    "webpage_words = []\n",
    "with open('Python.txt') as f:\n",
    "    lines.append(f.read())\n",
    "\n",
    "with open('Python2.txt') as f:\n",
    "    lines.append(f.read())\n",
    "    \n",
    "with open('python_NOT.txt') as f:\n",
    "    webpage_words.append(f.read())"
   ]
  },
  {
   "cell_type": "code",
   "execution_count": 4,
   "metadata": {
    "collapsed": false
   },
   "outputs": [],
   "source": [
    "a = str(lines)\n",
    "b = re.sub(\"[^a-zA-Z]\\S\\W\", \" \", a)\n",
    "c = b.split(' ')\n",
    "# a"
   ]
  },
  {
   "cell_type": "code",
   "execution_count": 5,
   "metadata": {
    "collapsed": false
   },
   "outputs": [],
   "source": [
    "# c"
   ]
  },
  {
   "cell_type": "code",
   "execution_count": 6,
   "metadata": {
    "collapsed": false
   },
   "outputs": [],
   "source": [
    "# len(c)\n"
   ]
  },
  {
   "cell_type": "code",
   "execution_count": 7,
   "metadata": {
    "collapsed": false
   },
   "outputs": [],
   "source": [
    "num = c.count('')\n",
    "for i in range(num):\n",
    "    c.remove('')"
   ]
  },
  {
   "cell_type": "markdown",
   "metadata": {},
   "source": [
    "####    test & fit it"
   ]
  },
  {
   "cell_type": "code",
   "execution_count": 8,
   "metadata": {
    "collapsed": false
   },
   "outputs": [],
   "source": [
    "X_python_test = c\n",
    "y_python_test = webpage_words"
   ]
  },
  {
   "cell_type": "code",
   "execution_count": null,
   "metadata": {
    "collapsed": false
   },
   "outputs": [],
   "source": []
  },
  {
   "cell_type": "code",
   "execution_count": null,
   "metadata": {
    "collapsed": false
   },
   "outputs": [],
   "source": []
  },
  {
   "cell_type": "code",
   "execution_count": 9,
   "metadata": {
    "collapsed": false
   },
   "outputs": [],
   "source": [
    "keywords_python = ['del', 'whileas', 'elif', 'global', 'withassert', 'yieldbreak', 'printclass', 'exec', \n",
    "                   'in', 'raisecontinue', 'returndef', 'lambda']"
   ]
  },
  {
   "cell_type": "code",
   "execution_count": 10,
   "metadata": {
    "collapsed": false
   },
   "outputs": [],
   "source": [
    "mmore = \".count( .index( .append( .extend( .insert( .remove( .pop( .reverse( .sort(\"\n",
    "more = mmore.split(\" \")"
   ]
  },
  {
   "cell_type": "code",
   "execution_count": 11,
   "metadata": {
    "collapsed": false
   },
   "outputs": [],
   "source": [
    "for each in more:\n",
    "    keywords_python.append(each)"
   ]
  },
  {
   "cell_type": "code",
   "execution_count": 12,
   "metadata": {
    "collapsed": true
   },
   "outputs": [],
   "source": [
    "X_python_train = keywords_python\n",
    "y_python_train = ['python'] * len(X_python_train)"
   ]
  },
  {
   "cell_type": "code",
   "execution_count": 13,
   "metadata": {
    "collapsed": false
   },
   "outputs": [],
   "source": [
    "py_pipeline = Pipeline([(\"count\", CV()), (\"tfid\", TF()), (\"multi\", MNB())])"
   ]
  },
  {
   "cell_type": "code",
   "execution_count": 14,
   "metadata": {
    "collapsed": false
   },
   "outputs": [
    {
     "name": "stderr",
     "output_type": "stream",
     "text": [
      "/Users/RobertWard/Documents/TIY/Week4/polyglot/.direnv/python-3.5.1/lib/python3.5/site-packages/sklearn/naive_bayes.py:420: RuntimeWarning: divide by zero encountered in log\n",
      "  self.class_log_prior_ = (np.log(self.class_count_)\n"
     ]
    },
    {
     "data": {
      "text/plain": [
       "Pipeline(steps=[('count', CountVectorizer(analyzer='word', binary=False, decode_error='strict',\n",
       "        dtype=<class 'numpy.int64'>, encoding='utf-8', input='content',\n",
       "        lowercase=True, max_df=1.0, max_features=None, min_df=1,\n",
       "        ngram_range=(1, 1), preprocessor=None, stop_words=None,\n",
       "        stri...ear_tf=False, use_idf=True)), ('multi', MultinomialNB(alpha=1.0, class_prior=None, fit_prior=True))])"
      ]
     },
     "execution_count": 14,
     "metadata": {},
     "output_type": "execute_result"
    }
   ],
   "source": [
    "py_pipeline.fit(X_python_train, y_python_train)"
   ]
  },
  {
   "cell_type": "code",
   "execution_count": 15,
   "metadata": {
    "collapsed": false
   },
   "outputs": [
    {
     "data": {
      "text/plain": [
       "1.0"
      ]
     },
     "execution_count": 15,
     "metadata": {},
     "output_type": "execute_result"
    }
   ],
   "source": [
    "py_pipeline.score(X_python_train,y_python_train)\n",
    "# py_pipeline.score(X_python_test,)"
   ]
  },
  {
   "cell_type": "code",
   "execution_count": 16,
   "metadata": {
    "collapsed": false,
    "scrolled": true
   },
   "outputs": [
    {
     "data": {
      "text/plain": [
       "array(['python', 'python', 'python', 'python', 'python', 'python',\n",
       "       'python', 'python', 'python', 'python', 'python', 'python',\n",
       "       'python', 'python', 'python', 'python', 'python', 'python',\n",
       "       'python', 'python', 'python', 'python', 'python', 'python',\n",
       "       'python', 'python', 'python', 'python', 'python', 'python',\n",
       "       'python', 'python', 'python', 'python', 'python', 'python',\n",
       "       'python', 'python', 'python', 'python', 'python', 'python',\n",
       "       'python', 'python', 'python', 'python', 'python', 'python',\n",
       "       'python', 'python', 'python', 'python', 'python', 'python',\n",
       "       'python', 'python', 'python', 'python', 'python', 'python',\n",
       "       'python', 'python', 'python', 'python', 'python', 'python',\n",
       "       'python', 'python', 'python', 'python', 'python', 'python',\n",
       "       'python', 'python', 'python', 'python', 'python', 'python',\n",
       "       'python', 'python', 'python', 'python', 'python', 'python',\n",
       "       'python', 'python', 'python', 'python', 'python', 'python',\n",
       "       'python', 'python', 'python', 'python', 'python', 'python',\n",
       "       'python', 'python', 'python', 'python', 'python', 'python',\n",
       "       'python', 'python', 'python', 'python', 'python', 'python',\n",
       "       'python', 'python', 'python', 'python', 'python', 'python',\n",
       "       'python', 'python', 'python', 'python', 'python', 'python',\n",
       "       'python', 'python', 'python', 'python', 'python', 'python',\n",
       "       'python', 'python', 'python', 'python', 'python', 'python',\n",
       "       'python', 'python', 'python', 'python', 'python', 'python',\n",
       "       'python', 'python', 'python', 'python', 'python', 'python',\n",
       "       'python', 'python', 'python', 'python', 'python', 'python',\n",
       "       'python', 'python', 'python', 'python', 'python', 'python',\n",
       "       'python', 'python', 'python', 'python', 'python', 'python',\n",
       "       'python', 'python', 'python', 'python', 'python', 'python',\n",
       "       'python', 'python', 'python', 'python', 'python', 'python',\n",
       "       'python', 'python', 'python', 'python', 'python', 'python',\n",
       "       'python', 'python', 'python', 'python', 'python', 'python',\n",
       "       'python', 'python', 'python', 'python', 'python', 'python',\n",
       "       'python', 'python', 'python', 'python', 'python', 'python',\n",
       "       'python', 'python', 'python', 'python', 'python', 'python',\n",
       "       'python', 'python', 'python', 'python', 'python', 'python',\n",
       "       'python', 'python', 'python', 'python', 'python', 'python',\n",
       "       'python', 'python', 'python', 'python', 'python', 'python',\n",
       "       'python', 'python', 'python', 'python', 'python', 'python',\n",
       "       'python', 'python', 'python', 'python', 'python', 'python',\n",
       "       'python', 'python', 'python', 'python', 'python', 'python',\n",
       "       'python', 'python', 'python', 'python', 'python', 'python',\n",
       "       'python', 'python', 'python', 'python', 'python', 'python',\n",
       "       'python', 'python', 'python', 'python', 'python', 'python',\n",
       "       'python', 'python', 'python', 'python', 'python', 'python',\n",
       "       'python', 'python', 'python', 'python', 'python', 'python',\n",
       "       'python', 'python', 'python', 'python', 'python', 'python',\n",
       "       'python', 'python', 'python', 'python', 'python', 'python',\n",
       "       'python', 'python', 'python', 'python', 'python', 'python',\n",
       "       'python', 'python', 'python', 'python', 'python', 'python',\n",
       "       'python', 'python', 'python', 'python', 'python', 'python',\n",
       "       'python', 'python', 'python', 'python', 'python', 'python',\n",
       "       'python', 'python', 'python', 'python', 'python', 'python',\n",
       "       'python', 'python', 'python', 'python', 'python', 'python',\n",
       "       'python', 'python', 'python', 'python', 'python', 'python',\n",
       "       'python', 'python', 'python', 'python', 'python', 'python',\n",
       "       'python', 'python', 'python', 'python', 'python', 'python',\n",
       "       'python', 'python', 'python', 'python', 'python', 'python',\n",
       "       'python', 'python', 'python', 'python', 'python', 'python',\n",
       "       'python', 'python', 'python', 'python', 'python', 'python',\n",
       "       'python', 'python', 'python', 'python', 'python', 'python',\n",
       "       'python', 'python', 'python', 'python', 'python', 'python',\n",
       "       'python', 'python', 'python', 'python', 'python', 'python',\n",
       "       'python', 'python', 'python', 'python', 'python', 'python',\n",
       "       'python', 'python', 'python', 'python', 'python', 'python',\n",
       "       'python', 'python', 'python', 'python', 'python', 'python',\n",
       "       'python', 'python', 'python', 'python', 'python', 'python',\n",
       "       'python', 'python', 'python', 'python', 'python', 'python',\n",
       "       'python', 'python', 'python', 'python', 'python', 'python',\n",
       "       'python', 'python', 'python', 'python', 'python', 'python',\n",
       "       'python', 'python', 'python', 'python', 'python', 'python',\n",
       "       'python', 'python', 'python', 'python', 'python', 'python',\n",
       "       'python', 'python', 'python', 'python', 'python', 'python',\n",
       "       'python', 'python', 'python', 'python', 'python', 'python',\n",
       "       'python', 'python', 'python', 'python', 'python', 'python',\n",
       "       'python', 'python', 'python', 'python', 'python', 'python',\n",
       "       'python', 'python', 'python', 'python', 'python', 'python',\n",
       "       'python', 'python', 'python', 'python', 'python', 'python',\n",
       "       'python', 'python', 'python', 'python', 'python', 'python',\n",
       "       'python', 'python', 'python', 'python', 'python', 'python',\n",
       "       'python', 'python', 'python', 'python', 'python', 'python',\n",
       "       'python', 'python', 'python', 'python', 'python', 'python',\n",
       "       'python', 'python', 'python', 'python', 'python', 'python',\n",
       "       'python', 'python', 'python', 'python', 'python', 'python',\n",
       "       'python', 'python', 'python', 'python', 'python', 'python'], \n",
       "      dtype='<U6')"
      ]
     },
     "execution_count": 16,
     "metadata": {},
     "output_type": "execute_result"
    }
   ],
   "source": [
    "py_pipeline.predict(X_python_test)   # this is a real python program"
   ]
  },
  {
   "cell_type": "code",
   "execution_count": 17,
   "metadata": {
    "collapsed": false
   },
   "outputs": [
    {
     "data": {
      "text/plain": [
       "array(['python'], \n",
       "      dtype='<U6')"
      ]
     },
     "execution_count": 17,
     "metadata": {},
     "output_type": "execute_result"
    }
   ],
   "source": [
    "py_pipeline.predict(y_python_test)   # this is NOT a real python program"
   ]
  },
  {
   "cell_type": "code",
   "execution_count": null,
   "metadata": {
    "collapsed": true
   },
   "outputs": [],
   "source": []
  }
 ],
 "metadata": {
  "kernelspec": {
   "display_name": "Python 3",
   "language": "python",
   "name": "python3"
  },
  "language_info": {
   "codemirror_mode": {
    "name": "ipython",
    "version": 3
   },
   "file_extension": ".py",
   "mimetype": "text/x-python",
   "name": "python",
   "nbconvert_exporter": "python",
   "pygments_lexer": "ipython3",
   "version": "3.5.1"
  }
 },
 "nbformat": 4,
 "nbformat_minor": 0
}
