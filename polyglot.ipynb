{
 "cells": [
  {
   "cell_type": "markdown",
   "metadata": {
    "collapsed": true
   },
   "source": [
    "# with multi file reader"
   ]
  },
  {
   "cell_type": "code",
   "execution_count": 2,
   "metadata": {
    "collapsed": true
   },
   "outputs": [],
   "source": [
    "import glob\n",
    "import re\n",
    "import csv\n",
    "from sklearn.feature_extraction.text import CountVectorizer as CV\n",
    "from sklearn.feature_extraction.text import TfidfTransformer as TF\n",
    "from sklearn.naive_bayes import MultinomialNB as MNB\n",
    "from sklearn.pipeline import Pipeline"
   ]
  },
  {
   "cell_type": "code",
   "execution_count": 3,
   "metadata": {
    "collapsed": true
   },
   "outputs": [],
   "source": [
    "def read_multiple_files(folder, file_ext):\n",
    "    files = glob.glob('{}/*.{}'.format(folder, file_ext))\n",
    "    data = []\n",
    "    for file in files:\n",
    "        with open(file, encoding='latin_1') as f:\n",
    "            data.append(f.read())\n",
    "    return data"
   ]
  },
  {
   "cell_type": "code",
   "execution_count": null,
   "metadata": {
    "collapsed": false
   },
   "outputs": [],
   "source": []
  },
  {
   "cell_type": "code",
   "execution_count": 4,
   "metadata": {
    "collapsed": true
   },
   "outputs": [],
   "source": [
    "file_exts = {'Ruby': 'jruby*', 'Clojure': 'clojure*', 'Scala': 'scala*', 'Python': 'py*', \n",
    "             'OCaml': 'ocaml*', 'Scheme': 'racket*', 'Common Lisp': 'sbcl*', 'Perl': 'perl*', 'PHP': 'hack*', \n",
    "             'C#': 'csharp*', 'Java': 'java', 'JavaScript': 'javascript*', 'C': 'gcc*', 'Haskell': 'ghc*'}\n",
    "f_e_again = {'PHP': 'php*', 'Ruby': 'yarv*'}"
   ]
  },
  {
   "cell_type": "code",
   "execution_count": 5,
   "metadata": {
    "collapsed": false
   },
   "outputs": [],
   "source": [
    "X_language_train = []\n",
    "y_language_train = []\n",
    "\n",
    "X_language_test = []\n",
    "y_language_test = []"
   ]
  },
  {
   "cell_type": "code",
   "execution_count": 6,
   "metadata": {
    "collapsed": false
   },
   "outputs": [],
   "source": [
    "for lang, ext in file_exts.items():\n",
    "    get_data = read_multiple_files('bench',ext)\n",
    "    X_language_train += get_data\n",
    "    y_language_train += ([lang]*len(get_data))\n",
    "\n",
    "    if lang == 'PHP':\n",
    "        get_data = read_multiple_files('bench','php*')\n",
    "        X_language_train += get_data\n",
    "        y_language_train += ([lang]*len(get_data))     #can't use .append bc pipelines are fucking stupid\n",
    "\n",
    "    if lang == 'Ruby':\n",
    "        get_data = read_multiple_files('bench','yarv*')\n",
    "        X_language_train += get_data\n",
    "        y_language_train += ([lang]*len(get_data))\n"
   ]
  },
  {
   "cell_type": "code",
   "execution_count": 7,
   "metadata": {
    "collapsed": false,
    "scrolled": true
   },
   "outputs": [],
   "source": [
    "# X_language_train"
   ]
  },
  {
   "cell_type": "code",
   "execution_count": 8,
   "metadata": {
    "collapsed": false,
    "scrolled": true
   },
   "outputs": [],
   "source": [
    "# y_language_train"
   ]
  },
  {
   "cell_type": "code",
   "execution_count": 9,
   "metadata": {
    "collapsed": false
   },
   "outputs": [],
   "source": [
    "py_pipeline = Pipeline([(\"count\", CV()), (\"multi\", MNB())])"
   ]
  },
  {
   "cell_type": "code",
   "execution_count": 10,
   "metadata": {
    "collapsed": false
   },
   "outputs": [],
   "source": [
    "# (\"tfid\", TF()),"
   ]
  },
  {
   "cell_type": "code",
   "execution_count": null,
   "metadata": {
    "collapsed": false,
    "scrolled": true
   },
   "outputs": [],
   "source": []
  },
  {
   "cell_type": "code",
   "execution_count": 11,
   "metadata": {
    "collapsed": false
   },
   "outputs": [
    {
     "data": {
      "text/plain": [
       "Pipeline(steps=[('count', CountVectorizer(analyzer='word', binary=False, decode_error='strict',\n",
       "        dtype=<class 'numpy.int64'>, encoding='utf-8', input='content',\n",
       "        lowercase=True, max_df=1.0, max_features=None, min_df=1,\n",
       "        ngram_range=(1, 1), preprocessor=None, stop_words=None,\n",
       "        strip_accents=None, token_pattern='(?u)\\\\b\\\\w\\\\w+\\\\b',\n",
       "        tokenizer=None, vocabulary=None)), ('multi', MultinomialNB(alpha=1.0, class_prior=None, fit_prior=True))])"
      ]
     },
     "execution_count": 11,
     "metadata": {},
     "output_type": "execute_result"
    }
   ],
   "source": [
    "py_pipeline.fit(X_language_train, y_language_train)\n"
   ]
  },
  {
   "cell_type": "code",
   "execution_count": 12,
   "metadata": {
    "collapsed": false
   },
   "outputs": [
    {
     "data": {
      "text/plain": [
       "0.99206349206349209"
      ]
     },
     "execution_count": 12,
     "metadata": {},
     "output_type": "execute_result"
    }
   ],
   "source": [
    "py_pipeline.score(X_language_train,y_language_train)"
   ]
  },
  {
   "cell_type": "code",
   "execution_count": 13,
   "metadata": {
    "collapsed": false
   },
   "outputs": [],
   "source": [
    "for lang, ext in file_exts.items():\n",
    "    get_data = read_multiple_files('bench2',ext)\n",
    "    X_language_test += get_data\n",
    "    y_language_test += ([lang]*len(get_data))\n",
    "\n",
    "    if lang == 'PHP':\n",
    "        get_data = read_multiple_files('bench2','php*')\n",
    "        X_language_test += get_data\n",
    "        y_language_test += ([lang]*len(get_data))     #can't use .append bc pipelines are fucking stupid\n",
    "\n",
    "    if lang == 'Ruby':\n",
    "        get_data = read_multiple_files('bench2','yarv*')\n",
    "        X_language_test += get_data\n",
    "        y_language_test += ([lang]*len(get_data))\n"
   ]
  },
  {
   "cell_type": "code",
   "execution_count": 14,
   "metadata": {
    "collapsed": false
   },
   "outputs": [],
   "source": [
    "def test_one_program(file):\n",
    "    data = []\n",
    "    with open(file, encoding='latin_1') as f:\n",
    "        reader = csv.reader(f)\n",
    "        for row in reader:\n",
    "            data.append(f.read())\n",
    "    return data"
   ]
  },
  {
   "cell_type": "code",
   "execution_count": 15,
   "metadata": {
    "collapsed": false
   },
   "outputs": [],
   "source": [
    "X_language_test = test_one_program('bench2/mandelbrot.clojure-5.clojure')\n",
    "# X_language_test"
   ]
  },
  {
   "cell_type": "code",
   "execution_count": 16,
   "metadata": {
    "collapsed": false
   },
   "outputs": [
    {
     "data": {
      "text/plain": [
       "array(['Clojure'], \n",
       "      dtype='<U11')"
      ]
     },
     "execution_count": 16,
     "metadata": {},
     "output_type": "execute_result"
    }
   ],
   "source": [
    "py_pipeline.predict(X_language_test)   # this is a real Clojure program"
   ]
  },
  {
   "cell_type": "code",
   "execution_count": 17,
   "metadata": {
    "collapsed": false
   },
   "outputs": [
    {
     "name": "stdout",
     "output_type": "stream",
     "text": [
      "Scheme ['Scheme']\n",
      "OCaml ['OCaml']\n",
      "Clojure ['Clojure']\n",
      "Perl ['Perl']\n",
      "C# ['C#']\n",
      "Python ['Clojure']\n",
      "C ['C']\n",
      "Scala ['Scala']\n",
      "Haskell ['Haskell']\n",
      "Ruby ['Ruby']\n",
      "Ruby ['Ruby']\n",
      "PHP ['PHP']\n",
      "PHP ['PHP']\n",
      "Common Lisp ['Common Lisp']\n",
      "JavaScript ['JavaScript']\n",
      "Java ['Java']\n"
     ]
    }
   ],
   "source": [
    "X_single_language_test = ''\n",
    "\n",
    "for lang, ext in file_exts.items():\n",
    "    get_data = read_multiple_files('test_one_each',ext)\n",
    "    X_single_language_test = get_data\n",
    "\n",
    "    if lang == 'PHP':\n",
    "        print(lang,py_pipeline.predict(X_single_language_test))\n",
    "        get_data = read_multiple_files('test_one_each','php*')\n",
    "        X_single_language_test = get_data\n",
    "\n",
    "    if lang == 'Ruby':\n",
    "        print(lang,py_pipeline.predict(X_single_language_test))\n",
    "        get_data = read_multiple_files('test_one_each','yarv*')\n",
    "        X_single_language_test = get_data\n",
    "\n",
    "    print(lang,py_pipeline.predict(X_single_language_test))"
   ]
  },
  {
   "cell_type": "code",
   "execution_count": null,
   "metadata": {
    "collapsed": true
   },
   "outputs": [],
   "source": []
  }
 ],
 "metadata": {
  "kernelspec": {
   "display_name": "Python 3",
   "language": "python",
   "name": "python3"
  },
  "language_info": {
   "codemirror_mode": {
    "name": "ipython",
    "version": 3
   },
   "file_extension": ".py",
   "mimetype": "text/x-python",
   "name": "python",
   "nbconvert_exporter": "python",
   "pygments_lexer": "ipython3",
   "version": "3.5.1"
  }
 },
 "nbformat": 4,
 "nbformat_minor": 0
}
