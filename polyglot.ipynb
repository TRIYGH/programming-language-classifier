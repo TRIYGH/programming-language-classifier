{
 "cells": [
  {
   "cell_type": "markdown",
   "metadata": {
    "collapsed": true
   },
   "source": [
    "# Polyglot with multi file reader"
   ]
  },
  {
   "cell_type": "code",
   "execution_count": 1,
   "metadata": {
    "collapsed": true
   },
   "outputs": [],
   "source": [
    "import glob\n",
    "import re\n",
    "import csv\n",
    "import numpy as np\n",
    "from sklearn.feature_extraction.text import CountVectorizer as CV\n",
    "from sklearn.feature_extraction.text import TfidfTransformer as TF\n",
    "from sklearn.naive_bayes import MultinomialNB as MNB\n",
    "from sklearn.pipeline import Pipeline"
   ]
  },
  {
   "cell_type": "code",
   "execution_count": 2,
   "metadata": {
    "collapsed": true
   },
   "outputs": [],
   "source": [
    "def read_multiple_files(folder, file_ext):\n",
    "    files = glob.glob('{}/*.{}'.format(folder, file_ext))\n",
    "    data = []\n",
    "    for file in files:\n",
    "        with open(file, encoding='latin_1') as f:\n",
    "            data.append(f.read())\n",
    "    return data"
   ]
  },
  {
   "cell_type": "markdown",
   "metadata": {
    "collapsed": false
   },
   "source": [
    "### ====================     TRAIN     ============================"
   ]
  },
  {
   "cell_type": "code",
   "execution_count": 3,
   "metadata": {
    "collapsed": true
   },
   "outputs": [],
   "source": [
    "file_exts = {'Ruby': 'jruby*', 'Clojure': 'clojure*', 'Scala': 'scala*', 'Python': 'py*', \n",
    "             'OCaml': 'ocaml*', 'Scheme': 'racket*', 'Common Lisp': 'sbcl*', 'Perl': 'perl*', 'PHP': 'hack*', \n",
    "             'C#': 'csharp*', 'Java': 'java', 'JavaScript': 'javascript*', 'C': 'gcc*', 'Haskell': 'ghc*'}\n",
    "f_e_again = {'PHP': 'php*', 'Ruby': 'yarv*'}"
   ]
  },
  {
   "cell_type": "code",
   "execution_count": 4,
   "metadata": {
    "collapsed": false
   },
   "outputs": [],
   "source": [
    "X_language_train = []\n",
    "y_language_train = []\n",
    "\n",
    "X_language_test = []\n",
    "y_language_test = []"
   ]
  },
  {
   "cell_type": "code",
   "execution_count": 5,
   "metadata": {
    "collapsed": false
   },
   "outputs": [],
   "source": [
    "for lang, ext in file_exts.items():\n",
    "    get_data = read_multiple_files('bench',ext)\n",
    "    X_language_train += get_data\n",
    "    y_language_train += ([lang]*len(get_data))\n",
    "\n",
    "    if lang == 'PHP':\n",
    "        get_data = read_multiple_files('bench','php*')\n",
    "        X_language_train += get_data\n",
    "        y_language_train += ([lang]*len(get_data))     #can't use .append\n",
    "\n",
    "    if lang == 'Ruby':\n",
    "        get_data = read_multiple_files('bench','yarv*')\n",
    "        X_language_train += get_data\n",
    "        y_language_train += ([lang]*len(get_data))\n"
   ]
  },
  {
   "cell_type": "code",
   "execution_count": 6,
   "metadata": {
    "collapsed": false,
    "scrolled": true
   },
   "outputs": [],
   "source": [
    "# X_language_train"
   ]
  },
  {
   "cell_type": "code",
   "execution_count": 7,
   "metadata": {
    "collapsed": false,
    "scrolled": true
   },
   "outputs": [],
   "source": [
    "# y_language_train"
   ]
  },
  {
   "cell_type": "code",
   "execution_count": 8,
   "metadata": {
    "collapsed": false
   },
   "outputs": [],
   "source": [
    "py_pipeline = Pipeline([(\"count\", CV()), (\"multi\", MNB())])"
   ]
  },
  {
   "cell_type": "code",
   "execution_count": 9,
   "metadata": {
    "collapsed": false
   },
   "outputs": [],
   "source": [
    "# (\"tfid\", TF()),"
   ]
  },
  {
   "cell_type": "code",
   "execution_count": null,
   "metadata": {
    "collapsed": false,
    "scrolled": true
   },
   "outputs": [],
   "source": []
  },
  {
   "cell_type": "code",
   "execution_count": 10,
   "metadata": {
    "collapsed": false
   },
   "outputs": [
    {
     "data": {
      "text/plain": [
       "Pipeline(steps=[('count', CountVectorizer(analyzer='word', binary=False, decode_error='strict',\n",
       "        dtype=<class 'numpy.int64'>, encoding='utf-8', input='content',\n",
       "        lowercase=True, max_df=1.0, max_features=None, min_df=1,\n",
       "        ngram_range=(1, 1), preprocessor=None, stop_words=None,\n",
       "        strip_accents=None, token_pattern='(?u)\\\\b\\\\w\\\\w+\\\\b',\n",
       "        tokenizer=None, vocabulary=None)), ('multi', MultinomialNB(alpha=1.0, class_prior=None, fit_prior=True))])"
      ]
     },
     "execution_count": 10,
     "metadata": {},
     "output_type": "execute_result"
    }
   ],
   "source": [
    "py_pipeline.fit(X_language_train, y_language_train)\n"
   ]
  },
  {
   "cell_type": "code",
   "execution_count": 11,
   "metadata": {
    "collapsed": false
   },
   "outputs": [
    {
     "data": {
      "text/plain": [
       "0.99206349206349209"
      ]
     },
     "execution_count": 11,
     "metadata": {},
     "output_type": "execute_result"
    }
   ],
   "source": [
    "py_pipeline.score(X_language_train,y_language_train)"
   ]
  },
  {
   "cell_type": "markdown",
   "metadata": {},
   "source": [
    "### ====================     TEST    ============================"
   ]
  },
  {
   "cell_type": "code",
   "execution_count": 12,
   "metadata": {
    "collapsed": false
   },
   "outputs": [],
   "source": [
    "for lang, ext in file_exts.items():\n",
    "    get_data = read_multiple_files('bench2',ext)\n",
    "    X_language_test += get_data\n",
    "    y_language_test += ([lang]*len(get_data))\n",
    "\n",
    "    if lang == 'PHP':\n",
    "        get_data = read_multiple_files('bench2','php*')\n",
    "        X_language_test += get_data\n",
    "        y_language_test += ([lang]*len(get_data))     #can't use .append bc pipelines are fucking stupid\n",
    "\n",
    "    if lang == 'Ruby':\n",
    "        get_data = read_multiple_files('bench2','yarv*')\n",
    "        X_language_test += get_data\n",
    "        y_language_test += ([lang]*len(get_data))\n"
   ]
  },
  {
   "cell_type": "code",
   "execution_count": 13,
   "metadata": {
    "collapsed": false
   },
   "outputs": [
    {
     "data": {
      "text/plain": [
       "0.94894894894894899"
      ]
     },
     "execution_count": 13,
     "metadata": {},
     "output_type": "execute_result"
    }
   ],
   "source": [
    "py_pipeline.score(X_language_test,y_language_test)"
   ]
  },
  {
   "cell_type": "code",
   "execution_count": null,
   "metadata": {
    "collapsed": true
   },
   "outputs": [],
   "source": []
  },
  {
   "cell_type": "markdown",
   "metadata": {},
   "source": [
    "## TEST A SINGLE PROGRAM  ----------------------------"
   ]
  },
  {
   "cell_type": "code",
   "execution_count": null,
   "metadata": {
    "collapsed": true
   },
   "outputs": [],
   "source": []
  },
  {
   "cell_type": "code",
   "execution_count": 14,
   "metadata": {
    "collapsed": false
   },
   "outputs": [],
   "source": [
    "def test_one_program(file):\n",
    "    data = []\n",
    "    with open(file, encoding='latin_1') as f:\n",
    "        reader = csv.reader(f)\n",
    "        for row in reader:\n",
    "            data.append(f.read())\n",
    "    return data"
   ]
  },
  {
   "cell_type": "code",
   "execution_count": 15,
   "metadata": {
    "collapsed": false
   },
   "outputs": [],
   "source": [
    "X_language_test = test_one_program('bench2/mandelbrot.clojure-5.clojure')\n",
    "# X_language_test"
   ]
  },
  {
   "cell_type": "code",
   "execution_count": 16,
   "metadata": {
    "collapsed": false
   },
   "outputs": [
    {
     "data": {
      "text/plain": [
       "array(['Clojure'], \n",
       "      dtype='<U11')"
      ]
     },
     "execution_count": 16,
     "metadata": {},
     "output_type": "execute_result"
    }
   ],
   "source": [
    "py_pipeline.predict(X_language_test)   # this is a real Clojure program"
   ]
  },
  {
   "cell_type": "code",
   "execution_count": 17,
   "metadata": {
    "collapsed": false
   },
   "outputs": [
    {
     "name": "stdout",
     "output_type": "stream",
     "text": [
      "Scala ['Scala']\n",
      "Python ['Clojure']\n",
      "Clojure ['Clojure']\n",
      "Scheme ['Scheme']\n",
      "C# ['C#']\n",
      "Common Lisp ['Common Lisp']\n",
      "PHP ['PHP']\n",
      "PHP ['PHP']\n",
      "Java ['Java']\n",
      "Ruby ['Ruby']\n",
      "Ruby ['Ruby']\n",
      "JavaScript ['JavaScript']\n",
      "Perl ['Perl']\n",
      "OCaml ['OCaml']\n",
      "C ['C']\n",
      "Haskell ['Haskell']\n"
     ]
    }
   ],
   "source": [
    "X_single_language_test = ''\n",
    "\n",
    "for lang, ext in file_exts.items():\n",
    "    get_data = read_multiple_files('test_one_each',ext)\n",
    "    X_single_language_test = get_data\n",
    "\n",
    "    if lang == 'PHP':\n",
    "        print(lang,py_pipeline.predict(X_single_language_test))\n",
    "        get_data = read_multiple_files('test_one_each','php*')\n",
    "        X_single_language_test = get_data\n",
    "\n",
    "    if lang == 'Ruby':\n",
    "        print(lang,py_pipeline.predict(X_single_language_test))\n",
    "        get_data = read_multiple_files('test_one_each','yarv*')\n",
    "        X_single_language_test = get_data\n",
    "\n",
    "    print(lang,py_pipeline.predict(X_single_language_test))"
   ]
  },
  {
   "cell_type": "code",
   "execution_count": 23,
   "metadata": {
    "collapsed": true
   },
   "outputs": [],
   "source": [
    "## I picked one random program from each language - all were BIG programs"
   ]
  },
  {
   "cell_type": "markdown",
   "metadata": {},
   "source": [
    "##    TEST SINGLE LINES OF CODE   -----------------------"
   ]
  },
  {
   "cell_type": "markdown",
   "metadata": {},
   "source": [
    "#### run 1 single line of code thru "
   ]
  },
  {
   "cell_type": "code",
   "execution_count": 18,
   "metadata": {
    "collapsed": false
   },
   "outputs": [
    {
     "name": "stdout",
     "output_type": "stream",
     "text": [
      "0.0714285714286\n"
     ]
    }
   ],
   "source": [
    "# X_line_of_language_test = \"mult3 = filter(lambda x: x % 3 == 0)\"\n",
    "X_line_of_language_test = [\"v2df Civ = { y*inverse_h-1.0, y*inverse_h-1.0 };\"]\n",
    "prob = np.mean(py_pipeline.predict_proba(X_line_of_language_test))\n",
    "print(prob)"
   ]
  },
  {
   "cell_type": "markdown",
   "metadata": {
    "collapsed": false
   },
   "source": [
    "####  run thousands of lines thru"
   ]
  },
  {
   "cell_type": "code",
   "execution_count": 19,
   "metadata": {
    "collapsed": false
   },
   "outputs": [],
   "source": [
    "def read_multiple_files_but_single_lines(folder, file_ext):\n",
    "    prob = 0\n",
    "    num_correct = 0\n",
    "    total_correct = 0\n",
    "    files = glob.glob('{}/*.{}'.format(folder, file_ext))\n",
    "    data = []\n",
    "    for file in files:\n",
    "        with open(file, encoding='latin_1') as f:\n",
    "            reader = csv.reader(f, delimiter = '\\n')\n",
    "        \n",
    "            for row in reader:\n",
    "                try:\n",
    "                    prob = np.mean(py_pipeline.predict_proba(row))\n",
    "                except:\n",
    "                    continue\n",
    "#                 print(file_ext,\":  \",py_pipeline.predict(row), prob)\n",
    "                guess = str(\"\".join(py_pipeline.predict(row)))\n",
    "\n",
    "                if file_ext == file_exts[guess]:\n",
    "                    num_correct += 1\n",
    "                total_correct += 1\n",
    "                \n",
    "    return num_correct / total_correct"
   ]
  },
  {
   "cell_type": "code",
   "execution_count": 20,
   "metadata": {
    "collapsed": false
   },
   "outputs": [
    {
     "name": "stdout",
     "output_type": "stream",
     "text": [
      "Scala Percentage of correct guesses:          0.2685442284807616\n",
      "Python Percentage of correct guesses:          0.147117296222664\n",
      "Clojure Percentage of correct guesses:          0.42528735632183906\n",
      "Scheme Percentage of correct guesses:          0.4810855263157895\n",
      "C# Percentage of correct guesses:          0.2343954604975993\n",
      "Common Lisp Percentage of correct guesses:          0.5647216633132126\n",
      "PHP Percentage of correct guesses:          0.25161812297734626\n",
      "Java Percentage of correct guesses:          0.31076312307013676\n",
      "Ruby Percentage of correct guesses:          0.641319285387082\n",
      "JavaScript Percentage of correct guesses:          0.06523534269199009\n",
      "Perl Percentage of correct guesses:          0.34307692307692306\n",
      "OCaml Percentage of correct guesses:          0.44659685863874343\n",
      "C Percentage of correct guesses:          0.29395667046750285\n",
      "Haskell Percentage of correct guesses:          0.3546187228766274\n"
     ]
    }
   ],
   "source": [
    "for lang, ext in file_exts.items():\n",
    "    avg = read_multiple_files_but_single_lines('bench2', ext)\n",
    "    print(lang, \"Percentage of correct guesses:         \", avg)"
   ]
  },
  {
   "cell_type": "markdown",
   "metadata": {},
   "source": [
    "## correct around 32%"
   ]
  },
  {
   "cell_type": "markdown",
   "metadata": {},
   "source": [
    "## guessing programs is much easier than just lines, for sure."
   ]
  },
  {
   "cell_type": "code",
   "execution_count": 21,
   "metadata": {
    "collapsed": true
   },
   "outputs": [],
   "source": [
    "# ===========  get percetnages for programs...as opposed to just lines\n",
    "def read_multiple_files_b(folder, file_ext):\n",
    "    prob = 0\n",
    "    num_correct = 0\n",
    "    total_correct = 0\n",
    "    files = glob.glob('{}/*.{}'.format(folder, file_ext))\n",
    "    data = []\n",
    "    for file in files:\n",
    "        with open(file, encoding='latin_1') as f:\n",
    "            data.append(f.read())\n",
    "            prob = np.mean(py_pipeline.predict_proba(data))\n",
    "            guess = str(\"\".join(py_pipeline.predict(data)))\n",
    "            if file_ext == file_exts[guess]:\n",
    "                num_correct += 1\n",
    "            total_correct += 1\n",
    "            data = []\n",
    "    return num_correct / total_correct"
   ]
  },
  {
   "cell_type": "code",
   "execution_count": 22,
   "metadata": {
    "collapsed": false
   },
   "outputs": [
    {
     "name": "stdout",
     "output_type": "stream",
     "text": [
      "Scala :   Percentage of correct guesses:               1.0000\n",
      "Python :   Percentage of correct guesses:               0.8750\n",
      "Clojure :   Percentage of correct guesses:               1.0000\n",
      "Scheme :   Percentage of correct guesses:               1.0000\n",
      "C# :   Percentage of correct guesses:               1.0000\n",
      "Common Lisp :   Percentage of correct guesses:               1.0000\n",
      "PHP :   Percentage of correct guesses:               0.8667\n",
      "Java :   Percentage of correct guesses:               1.0000\n",
      "Ruby :   Percentage of correct guesses:               0.9524\n",
      "JavaScript :   Percentage of correct guesses:               0.6429\n",
      "Perl :   Percentage of correct guesses:               0.8947\n",
      "OCaml :   Percentage of correct guesses:               1.0000\n",
      "C :   Percentage of correct guesses:               0.9697\n",
      "Haskell :   Percentage of correct guesses:               1.0000\n"
     ]
    }
   ],
   "source": [
    "for lang, ext in file_exts.items():\n",
    "    avg = read_multiple_files_b('bench2', ext)\n",
    "    print(lang, \":   Percentage of correct guesses:               {:.4f}\".format(avg))"
   ]
  },
  {
   "cell_type": "markdown",
   "metadata": {},
   "source": [
    "## much better"
   ]
  },
  {
   "cell_type": "markdown",
   "metadata": {},
   "source": [
    "## correct around 87 %"
   ]
  },
  {
   "cell_type": "code",
   "execution_count": null,
   "metadata": {
    "collapsed": true
   },
   "outputs": [],
   "source": []
  }
 ],
 "metadata": {
  "kernelspec": {
   "display_name": "Python 3",
   "language": "python",
   "name": "python3"
  },
  "language_info": {
   "codemirror_mode": {
    "name": "ipython",
    "version": 3
   },
   "file_extension": ".py",
   "mimetype": "text/x-python",
   "name": "python",
   "nbconvert_exporter": "python",
   "pygments_lexer": "ipython3",
   "version": "3.5.1"
  }
 },
 "nbformat": 4,
 "nbformat_minor": 0
}
