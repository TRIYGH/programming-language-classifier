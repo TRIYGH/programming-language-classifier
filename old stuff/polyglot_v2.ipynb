{
 "cells": [
  {
   "cell_type": "code",
   "execution_count": 1,
   "metadata": {
    "collapsed": true
   },
   "outputs": [],
   "source": [
    "import re\n",
    "import glob\n",
    "from sklearn.feature_extraction.text import CountVectorizer as CV\n",
    "from sklearn.feature_extraction.text import TfidfTransformer as TF\n",
    "from sklearn.naive_bayes import MultinomialNB as MNB\n",
    "from sklearn.pipeline import Pipeline"
   ]
  },
  {
   "cell_type": "code",
   "execution_count": 2,
   "metadata": {
    "collapsed": true
   },
   "outputs": [],
   "source": [
    "def load_file(file_name):\n",
    "    lines = []\n",
    "    with open(file_name) as f:\n",
    "        lines.append(f.read())\n",
    "    return lines"
   ]
  },
  {
   "cell_type": "code",
   "execution_count": 3,
   "metadata": {
    "collapsed": true
   },
   "outputs": [],
   "source": [
    "def clean_file(clean):\n",
    "    a = str(clean)\n",
    "    b = re.sub(\"[^a-zA-Z]\\S\\W\", \" \", a)\n",
    "    c = b.split(' ')\n",
    "    num = c.count('')\n",
    "    for i in range(num):\n",
    "        c.remove('')\n",
    "    return c"
   ]
  },
  {
   "cell_type": "code",
   "execution_count": 4,
   "metadata": {
    "collapsed": false
   },
   "outputs": [],
   "source": [
    "correct = 'C#'\n",
    "NOT_correct = 'NOT C#'\n",
    "language_file = load_file('C#.txt')\n",
    "x = clean_file(language_file)\n",
    "NOT_program = load_file('english.txt')\n",
    "y = clean_file(NOT_program)"
   ]
  },
  {
   "cell_type": "code",
   "execution_count": 5,
   "metadata": {
    "collapsed": false
   },
   "outputs": [],
   "source": [
    "X_C_train = x + y\n",
    "y_C_train = [correct] * len(x) + [NOT_correct] * len(y)"
   ]
  },
  {
   "cell_type": "code",
   "execution_count": 6,
   "metadata": {
    "collapsed": true
   },
   "outputs": [],
   "source": [
    "py_pipeline = Pipeline([(\"count\", CV()), (\"tfid\", TF()), (\"multi\", MNB())])"
   ]
  },
  {
   "cell_type": "code",
   "execution_count": 7,
   "metadata": {
    "collapsed": false
   },
   "outputs": [
    {
     "data": {
      "text/plain": [
       "Pipeline(steps=[('count', CountVectorizer(analyzer='word', binary=False, decode_error='strict',\n",
       "        dtype=<class 'numpy.int64'>, encoding='utf-8', input='content',\n",
       "        lowercase=True, max_df=1.0, max_features=None, min_df=1,\n",
       "        ngram_range=(1, 1), preprocessor=None, stop_words=None,\n",
       "        stri...ear_tf=False, use_idf=True)), ('multi', MultinomialNB(alpha=1.0, class_prior=None, fit_prior=True))])"
      ]
     },
     "execution_count": 7,
     "metadata": {},
     "output_type": "execute_result"
    }
   ],
   "source": [
    "py_pipeline.fit(X_C_train, y_C_train)"
   ]
  },
  {
   "cell_type": "code",
   "execution_count": 8,
   "metadata": {
    "collapsed": false
   },
   "outputs": [
    {
     "data": {
      "text/plain": [
       "0.86988636363636362"
      ]
     },
     "execution_count": 8,
     "metadata": {},
     "output_type": "execute_result"
    }
   ],
   "source": [
    "py_pipeline.score(X_C_train,y_C_train)"
   ]
  },
  {
   "cell_type": "code",
   "execution_count": 9,
   "metadata": {
    "collapsed": true
   },
   "outputs": [],
   "source": [
    "language_file = load_file('C#_test.txt')\n",
    "X_C_test = clean_file(language_file)"
   ]
  },
  {
   "cell_type": "code",
   "execution_count": null,
   "metadata": {
    "collapsed": false
   },
   "outputs": [],
   "source": []
  },
  {
   "cell_type": "code",
   "execution_count": 10,
   "metadata": {
    "collapsed": true
   },
   "outputs": [],
   "source": [
    "def get_lang_count(lang):\n",
    "    lang_count = 0\n",
    "    for each in lang:\n",
    "        if each == correct:\n",
    "            lang_count +=1\n",
    "\n",
    "    print(\"The total amount of 'positive IDs' is {}.  The percentage is {}.\".format(lang_count,lang_count/len(lang)))"
   ]
  },
  {
   "cell_type": "code",
   "execution_count": 11,
   "metadata": {
    "collapsed": true
   },
   "outputs": [],
   "source": [
    "c_sharp = py_pipeline.predict(X_C_test)   # this is a real C# program"
   ]
  },
  {
   "cell_type": "code",
   "execution_count": 12,
   "metadata": {
    "collapsed": false
   },
   "outputs": [
    {
     "name": "stdout",
     "output_type": "stream",
     "text": [
      "The total amount of 'positive IDs' is 103.  The percentage is 0.221505376344086.\n"
     ]
    }
   ],
   "source": [
    "get_lang_count(c_sharp)"
   ]
  },
  {
   "cell_type": "code",
   "execution_count": 16,
   "metadata": {
    "collapsed": false,
    "scrolled": true
   },
   "outputs": [
    {
     "data": {
      "text/plain": [
       "array(['C#', 'C#', 'C#', 'NOT C#', 'NOT C#', 'C#', 'NOT C#', 'NOT C#',\n",
       "       'NOT C#', 'NOT C#', 'C#', 'NOT C#', 'NOT C#', 'C#', 'NOT C#',\n",
       "       'NOT C#', 'C#', 'NOT C#', 'NOT C#', 'C#', 'NOT C#', 'NOT C#',\n",
       "       'NOT C#', 'C#', 'NOT C#', 'NOT C#', 'C#', 'NOT C#', 'NOT C#', 'C#',\n",
       "       'NOT C#', 'NOT C#', 'C#', 'NOT C#', 'NOT C#', 'C#', 'NOT C#',\n",
       "       'NOT C#', 'NOT C#', 'C#', 'NOT C#', 'NOT C#', 'C#', 'NOT C#',\n",
       "       'NOT C#', 'NOT C#', 'NOT C#', 'NOT C#', 'C#', 'NOT C#', 'C#',\n",
       "       'NOT C#', 'C#', 'NOT C#', 'C#', 'NOT C#', 'C#', 'NOT C#', 'NOT C#',\n",
       "       'NOT C#', 'NOT C#', 'NOT C#', 'NOT C#', 'NOT C#', 'NOT C#',\n",
       "       'NOT C#', 'NOT C#', 'NOT C#', 'C#', 'NOT C#', 'NOT C#', 'NOT C#',\n",
       "       'NOT C#', 'C#', 'NOT C#', 'NOT C#', 'NOT C#', 'NOT C#', 'NOT C#',\n",
       "       'NOT C#', 'NOT C#', 'C#', 'NOT C#', 'NOT C#', 'NOT C#', 'NOT C#',\n",
       "       'NOT C#', 'NOT C#', 'NOT C#', 'NOT C#', 'NOT C#', 'NOT C#',\n",
       "       'NOT C#', 'NOT C#', 'NOT C#', 'C#', 'NOT C#', 'C#', 'NOT C#', 'C#',\n",
       "       'NOT C#', 'C#', 'NOT C#', 'C#', 'NOT C#', 'NOT C#', 'NOT C#',\n",
       "       'NOT C#', 'NOT C#', 'NOT C#', 'NOT C#', 'NOT C#', 'C#', 'NOT C#',\n",
       "       'NOT C#', 'NOT C#', 'NOT C#', 'NOT C#', 'NOT C#', 'NOT C#',\n",
       "       'NOT C#', 'NOT C#', 'NOT C#', 'C#', 'NOT C#', 'NOT C#', 'NOT C#',\n",
       "       'NOT C#', 'C#', 'NOT C#', 'NOT C#', 'NOT C#', 'NOT C#', 'NOT C#',\n",
       "       'NOT C#', 'NOT C#', 'NOT C#', 'NOT C#', 'C#', 'C#', 'NOT C#',\n",
       "       'NOT C#', 'NOT C#', 'C#', 'NOT C#', 'NOT C#', 'NOT C#', 'C#',\n",
       "       'NOT C#', 'NOT C#', 'NOT C#', 'C#', 'NOT C#', 'NOT C#', 'NOT C#',\n",
       "       'NOT C#', 'NOT C#', 'NOT C#', 'NOT C#', 'NOT C#', 'NOT C#',\n",
       "       'NOT C#', 'NOT C#', 'C#', 'C#', 'NOT C#', 'NOT C#', 'NOT C#', 'C#',\n",
       "       'NOT C#', 'NOT C#', 'NOT C#', 'NOT C#', 'C#', 'NOT C#', 'C#',\n",
       "       'NOT C#', 'NOT C#', 'NOT C#', 'NOT C#', 'NOT C#', 'NOT C#',\n",
       "       'NOT C#', 'C#', 'NOT C#', 'NOT C#', 'C#', 'NOT C#', 'NOT C#',\n",
       "       'NOT C#', 'C#', 'NOT C#', 'NOT C#', 'NOT C#', 'NOT C#', 'NOT C#',\n",
       "       'NOT C#', 'NOT C#', 'C#', 'C#', 'NOT C#', 'NOT C#', 'C#', 'NOT C#',\n",
       "       'NOT C#', 'NOT C#', 'NOT C#', 'NOT C#', 'NOT C#', 'NOT C#',\n",
       "       'NOT C#', 'NOT C#', 'NOT C#', 'NOT C#', 'NOT C#', 'C#', 'NOT C#',\n",
       "       'NOT C#', 'NOT C#', 'C#', 'NOT C#', 'NOT C#', 'NOT C#', 'C#',\n",
       "       'NOT C#', 'NOT C#', 'C#', 'NOT C#', 'NOT C#', 'NOT C#', 'NOT C#',\n",
       "       'C#', 'NOT C#', 'NOT C#', 'NOT C#', 'NOT C#', 'NOT C#', 'NOT C#',\n",
       "       'NOT C#', 'NOT C#', 'NOT C#', 'NOT C#', 'C#', 'C#', 'C#', 'C#',\n",
       "       'C#', 'NOT C#', 'NOT C#', 'NOT C#', 'C#', 'C#', 'NOT C#', 'C#',\n",
       "       'C#', 'NOT C#', 'NOT C#', 'NOT C#', 'C#', 'NOT C#', 'NOT C#', 'C#',\n",
       "       'C#', 'NOT C#', 'C#', 'C#', 'NOT C#', 'C#', 'NOT C#', 'NOT C#',\n",
       "       'NOT C#', 'NOT C#', 'NOT C#', 'C#', 'NOT C#', 'NOT C#', 'C#',\n",
       "       'NOT C#', 'NOT C#', 'NOT C#', 'NOT C#', 'NOT C#', 'NOT C#', 'C#',\n",
       "       'C#', 'NOT C#', 'NOT C#', 'NOT C#', 'NOT C#', 'NOT C#', 'NOT C#',\n",
       "       'NOT C#', 'C#', 'C#', 'C#', 'NOT C#', 'NOT C#', 'NOT C#', 'NOT C#',\n",
       "       'NOT C#', 'NOT C#', 'C#', 'C#', 'NOT C#', 'NOT C#', 'C#', 'NOT C#',\n",
       "       'NOT C#', 'NOT C#', 'NOT C#', 'NOT C#', 'NOT C#', 'NOT C#',\n",
       "       'NOT C#', 'C#', 'C#', 'C#', 'NOT C#', 'NOT C#', 'NOT C#', 'NOT C#',\n",
       "       'NOT C#', 'NOT C#', 'NOT C#', 'NOT C#', 'NOT C#', 'NOT C#',\n",
       "       'NOT C#', 'NOT C#', 'C#', 'C#', 'NOT C#', 'NOT C#', 'NOT C#',\n",
       "       'NOT C#', 'NOT C#', 'NOT C#', 'NOT C#', 'NOT C#', 'NOT C#',\n",
       "       'NOT C#', 'NOT C#', 'NOT C#', 'NOT C#', 'NOT C#', 'C#', 'C#',\n",
       "       'NOT C#', 'NOT C#', 'C#', 'NOT C#', 'NOT C#', 'NOT C#', 'NOT C#',\n",
       "       'C#', 'NOT C#', 'NOT C#', 'NOT C#', 'C#', 'NOT C#', 'NOT C#',\n",
       "       'NOT C#', 'NOT C#', 'NOT C#', 'NOT C#', 'C#', 'NOT C#', 'NOT C#',\n",
       "       'NOT C#', 'NOT C#', 'NOT C#', 'NOT C#', 'NOT C#', 'NOT C#',\n",
       "       'NOT C#', 'C#', 'C#', 'NOT C#', 'NOT C#', 'NOT C#', 'NOT C#',\n",
       "       'NOT C#', 'NOT C#', 'NOT C#', 'NOT C#', 'C#', 'C#', 'NOT C#',\n",
       "       'NOT C#', 'NOT C#', 'NOT C#', 'NOT C#', 'NOT C#', 'C#', 'NOT C#',\n",
       "       'NOT C#', 'NOT C#', 'NOT C#', 'NOT C#', 'NOT C#', 'C#', 'C#',\n",
       "       'NOT C#', 'NOT C#', 'NOT C#', 'NOT C#', 'NOT C#', 'NOT C#',\n",
       "       'NOT C#', 'NOT C#', 'NOT C#', 'NOT C#', 'NOT C#', 'NOT C#',\n",
       "       'NOT C#', 'NOT C#', 'NOT C#', 'C#', 'C#', 'NOT C#', 'NOT C#',\n",
       "       'NOT C#', 'NOT C#', 'NOT C#', 'NOT C#', 'NOT C#', 'NOT C#',\n",
       "       'NOT C#', 'NOT C#', 'NOT C#', 'NOT C#', 'NOT C#', 'NOT C#',\n",
       "       'NOT C#', 'C#', 'C#', 'NOT C#', 'NOT C#', 'NOT C#', 'C#', 'NOT C#',\n",
       "       'NOT C#', 'NOT C#', 'NOT C#', 'NOT C#', 'NOT C#', 'C#', 'C#',\n",
       "       'NOT C#', 'NOT C#', 'NOT C#', 'NOT C#', 'NOT C#', 'NOT C#',\n",
       "       'NOT C#', 'NOT C#', 'NOT C#', 'C#', 'NOT C#', 'NOT C#', 'NOT C#',\n",
       "       'NOT C#', 'NOT C#', 'NOT C#', 'NOT C#'], \n",
       "      dtype='<U6')"
      ]
     },
     "execution_count": 16,
     "metadata": {},
     "output_type": "execute_result"
    }
   ],
   "source": [
    "py_pipeline.predict(X_C_test)   # this is a real C# program"
   ]
  },
  {
   "cell_type": "code",
   "execution_count": null,
   "metadata": {
    "collapsed": false
   },
   "outputs": [],
   "source": []
  },
  {
   "cell_type": "code",
   "execution_count": null,
   "metadata": {
    "collapsed": true
   },
   "outputs": [],
   "source": []
  }
 ],
 "metadata": {
  "kernelspec": {
   "display_name": "Python 3",
   "language": "python",
   "name": "python3"
  },
  "language_info": {
   "codemirror_mode": {
    "name": "ipython",
    "version": 3
   },
   "file_extension": ".py",
   "mimetype": "text/x-python",
   "name": "python",
   "nbconvert_exporter": "python",
   "pygments_lexer": "ipython3",
   "version": "3.5.1"
  }
 },
 "nbformat": 4,
 "nbformat_minor": 0
}
