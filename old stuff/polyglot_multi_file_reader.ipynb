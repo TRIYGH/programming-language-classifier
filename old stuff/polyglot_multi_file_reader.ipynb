{
 "cells": [
  {
   "cell_type": "code",
   "execution_count": 1,
   "metadata": {
    "collapsed": true
   },
   "outputs": [],
   "source": [
    "# multi file reader"
   ]
  },
  {
   "cell_type": "code",
   "execution_count": 2,
   "metadata": {
    "collapsed": true
   },
   "outputs": [],
   "source": [
    "import glob"
   ]
  },
  {
   "cell_type": "code",
   "execution_count": 38,
   "metadata": {
    "collapsed": true
   },
   "outputs": [],
   "source": [
    "def read_multiple_files(folder, file_ext):\n",
    "    files = glob.glob('{}/*.{}'.format(folder, file_ext))\n",
    "    data = []\n",
    "    for file in files:\n",
    "        with open(file) as f:\n",
    "            data.append(f.read())\n",
    "    return data"
   ]
  },
  {
   "cell_type": "code",
   "execution_count": null,
   "metadata": {
    "collapsed": false
   },
   "outputs": [],
   "source": []
  },
  {
   "cell_type": "code",
   "execution_count": 39,
   "metadata": {
    "collapsed": true
   },
   "outputs": [],
   "source": []
  },
  {
   "cell_type": "code",
   "execution_count": 50,
   "metadata": {
    "collapsed": true
   },
   "outputs": [],
   "source": [
    "file_exts = {'Ruby': 'jruby*', 'Clojure': 'clojure*', 'Scala': 'scala*', 'Python': 'py*', \n",
    "             'OCaml': 'ocaml*', 'Scheme': 'racket*', 'Common Lisp': 'sbcl*', 'Perl': 'perl*', 'PHP': 'hack*', \n",
    "             'C#': 'csharp*', 'Java': 'java*', 'JavaScript': 'javascript*', 'C': 'gcc*', 'Haskell': 'hs*'}\n",
    "f_e_again = {'PHP': 'php*', 'Ruby': 'yarv*'}"
   ]
  },
  {
   "cell_type": "code",
   "execution_count": 51,
   "metadata": {
    "collapsed": false
   },
   "outputs": [],
   "source": [
    "X_language_train = []\n",
    "y_language_train = []"
   ]
  },
  {
   "cell_type": "code",
   "execution_count": 55,
   "metadata": {
    "collapsed": false
   },
   "outputs": [],
   "source": [
    "for lang, ext in file_exts.items():\n",
    "    X_language_train.append(lang)\n",
    "    X_language_train.append(read_multiple_files('bench',ext))\n",
    "    if lang == 'PHP':\n",
    "        X_language_train.append(read_multiple_files('bench','.php*'))\n",
    "    if lang == 'Ruby':\n",
    "        X_language_train.append(read_multiple_files('bench','.yarv*'))\n",
    "    \n",
    "    y_language_train.append(lang)\n",
    "    \n",
    "# language_test = read_multiple_files('bench2')\n",
    "# language_test = read_multiple_files('')"
   ]
  },
  {
   "cell_type": "code",
   "execution_count": 60,
   "metadata": {
    "collapsed": false,
    "scrolled": true
   },
   "outputs": [],
   "source": [
    "# X_language_train"
   ]
  },
  {
   "cell_type": "code",
   "execution_count": 61,
   "metadata": {
    "collapsed": false,
    "scrolled": true
   },
   "outputs": [],
   "source": [
    "# y_language_train"
   ]
  },
  {
   "cell_type": "code",
   "execution_count": null,
   "metadata": {
    "collapsed": true
   },
   "outputs": [],
   "source": []
  }
 ],
 "metadata": {
  "kernelspec": {
   "display_name": "Python 3",
   "language": "python",
   "name": "python3"
  },
  "language_info": {
   "codemirror_mode": {
    "name": "ipython",
    "version": 3
   },
   "file_extension": ".py",
   "mimetype": "text/x-python",
   "name": "python",
   "nbconvert_exporter": "python",
   "pygments_lexer": "ipython3",
   "version": "3.5.1"
  }
 },
 "nbformat": 4,
 "nbformat_minor": 0
}
